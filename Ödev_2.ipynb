{
 "cells": [
  {
   "cell_type": "markdown",
   "id": "4b648872-dc16-4fe3-9576-a8a3e6cac2c0",
   "metadata": {},
   "source": [
    "## ÖDEV 2"
   ]
  },
  {
   "cell_type": "markdown",
   "id": "2e856c6a-9e5f-4422-afe4-d72e4b22d7dd",
   "metadata": {},
   "source": [
    "**1-Film tablosunda bulunan tüm sütunlardaki verileri replacement cost değeri 12.99 dan büyük eşit ve 16.99 küçük olma koşuluyla sıralayınız ( BETWEEN - AND yapısını kullanınız.)**"
   ]
  },
  {
   "cell_type": "markdown",
   "id": "03957f43-3db0-4642-8393-191da7f46c55",
   "metadata": {},
   "source": [
    "<pre>\n",
    "SELECT * FROM film\n",
    "WHERE replacement_cost BETWEEN 12.99 AND 16.99;\n",
    "<pre>"
   ]
  },
  {
   "cell_type": "markdown",
   "id": "9ab3bc5e-3df6-405d-a4de-810819db2f58",
   "metadata": {},
   "source": [
    "**2-Actor tablosunda bulunan first_name ve last_name sütunlardaki verileri first_name 'Penelope' veya 'Nick' veya 'Ed' değerleri olması koşuluyla sıralayınız. ( IN operatörünü kullanınız.)**"
   ]
  },
  {
   "cell_type": "markdown",
   "id": "a666376b-2134-4534-811a-a1d76bc0070e",
   "metadata": {},
   "source": [
    "<pre>\n",
    "SELECT first_name,last_name FROM actor\n",
    "WHERE first_name IN ('Penelope' , 'Nick' , 'Ed');\n",
    "<pre>"
   ]
  },
  {
   "cell_type": "markdown",
   "id": "5715f1ce-47ef-4900-9d2c-9dbdf97ab5eb",
   "metadata": {
    "tags": []
   },
   "source": [
    "**3-Film tablosunda bulunan tüm sütunlardaki verileri rental_rate 0.99, 2.99, 4.99 VE replacement_cost 12.99, 15.99, 28.99 olma koşullarıyla sıralayınız. ( IN operatörünü kullanınız.)**"
   ]
  },
  {
   "cell_type": "markdown",
   "id": "19b3bc5c-3a47-4328-87e5-d872fd7ea93e",
   "metadata": {},
   "source": [
    "<pre>\n",
    "SELECT * FROM film\n",
    "WHERE (rental_rate IN (0.99, 2.99, 4.99)) AND (replacement_cost IN (12.99, 15.99, 28.99));\n",
    "<pre>"
   ]
  },
  {
   "cell_type": "code",
   "execution_count": null,
   "id": "aaa40df0-75ad-4a75-ba7f-7266cc34343d",
   "metadata": {},
   "outputs": [],
   "source": []
  }
 ],
 "metadata": {
  "kernelspec": {
   "display_name": "Python 3 (ipykernel)",
   "language": "python",
   "name": "python3"
  },
  "language_info": {
   "codemirror_mode": {
    "name": "ipython",
    "version": 3
   },
   "file_extension": ".py",
   "mimetype": "text/x-python",
   "name": "python",
   "nbconvert_exporter": "python",
   "pygments_lexer": "ipython3",
   "version": "3.9.13"
  }
 },
 "nbformat": 4,
 "nbformat_minor": 5
}
