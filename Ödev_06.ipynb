{
 "cells": [
  {
   "cell_type": "markdown",
   "id": "4b648872-dc16-4fe3-9576-a8a3e6cac2c0",
   "metadata": {},
   "source": [
    "## ÖDEV 6"
   ]
  },
  {
   "cell_type": "markdown",
   "id": "2e856c6a-9e5f-4422-afe4-d72e4b22d7dd",
   "metadata": {},
   "source": [
    "**1-Film tablosunda bulunan rental_rate sütunundaki değerlerin ortalaması nedir ?**"
   ]
  },
  {
   "cell_type": "markdown",
   "id": "03957f43-3db0-4642-8393-191da7f46c55",
   "metadata": {},
   "source": [
    "<pre>\n",
    "SELECT  ROUND(AVG(rental_rate),3) FROM film;\n",
    "<pre>"
   ]
  },
  {
   "cell_type": "markdown",
   "id": "9ab3bc5e-3df6-405d-a4de-810819db2f58",
   "metadata": {},
   "source": [
    "**2-Film tablosunda bulunan filmlerden kaç tanesi 'C' karakteri ile başlar ?**"
   ]
  },
  {
   "cell_type": "markdown",
   "id": "a666376b-2134-4534-811a-a1d76bc0070e",
   "metadata": {},
   "source": [
    "<pre>\n",
    "SELECT  COUNT(*) FROM film\n",
    "WHERE title LIKE ('C%');\n",
    "<pre>"
   ]
  },
  {
   "cell_type": "markdown",
   "id": "5715f1ce-47ef-4900-9d2c-9dbdf97ab5eb",
   "metadata": {
    "tags": []
   },
   "source": [
    "**3-Film tablosunda bulunan filmlerden rental_rate değeri 0.99 a eşit olan en uzun (length) film kaç dakikadır ?**"
   ]
  },
  {
   "cell_type": "markdown",
   "id": "19b3bc5c-3a47-4328-87e5-d872fd7ea93e",
   "metadata": {},
   "source": [
    "<pre>\n",
    "SELECT  MAX(length) FROM film\n",
    "WHERE rental_rate=0.99;\n",
    "<pre>"
   ]
  },
  {
   "cell_type": "markdown",
   "id": "87c89362-9339-4868-ae2b-45d2a81ebac7",
   "metadata": {},
   "source": [
    "**4-Film tablosunda bulunan filmlerin uzunluğu 150 dakikadan büyük olanlarına ait kaç farklı replacement_cost değeri vardır ?**"
   ]
  },
  {
   "cell_type": "markdown",
   "id": "f4d89238-1dfc-4b1c-8a41-34cef47f2587",
   "metadata": {},
   "source": [
    "<pre>\n",
    "SELECT   COUNT(DISTINCT replacement_cost) FROM film\n",
    "WHERE length>150;\n",
    "<pre>"
   ]
  }
 ],
 "metadata": {
  "kernelspec": {
   "display_name": "Python 3 (ipykernel)",
   "language": "python",
   "name": "python3"
  },
  "language_info": {
   "codemirror_mode": {
    "name": "ipython",
    "version": 3
   },
   "file_extension": ".py",
   "mimetype": "text/x-python",
   "name": "python",
   "nbconvert_exporter": "python",
   "pygments_lexer": "ipython3",
   "version": "3.9.13"
  }
 },
 "nbformat": 4,
 "nbformat_minor": 5
}
