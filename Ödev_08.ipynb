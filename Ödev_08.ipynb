{
 "cells": [
  {
   "cell_type": "markdown",
   "id": "4b648872-dc16-4fe3-9576-a8a3e6cac2c0",
   "metadata": {},
   "source": [
    "## ÖDEV 8"
   ]
  },
  {
   "cell_type": "markdown",
   "id": "2e856c6a-9e5f-4422-afe4-d72e4b22d7dd",
   "metadata": {},
   "source": [
    "**1-Test veritabanınızda employee isimli sütun bilgileri id(INTEGER), name VARCHAR(50), birthday DATE, email VARCHAR(100) olan bir tablo oluşturalım.**"
   ]
  },
  {
   "cell_type": "markdown",
   "id": "03957f43-3db0-4642-8393-191da7f46c55",
   "metadata": {},
   "source": [
    "<pre>\n",
    "CREATE TABLE employee (\n",
    "\tid INTEGER, \n",
    "\tfirst_name VARCHAR(50),\n",
    "\tbirthday DATE,\n",
    "\temail VARCHAR(100)\n",
    ");\n",
    "<pre>"
   ]
  },
  {
   "cell_type": "markdown",
   "id": "9ab3bc5e-3df6-405d-a4de-810819db2f58",
   "metadata": {},
   "source": [
    "**2-Oluşturduğumuz employee tablosuna 'Mockaroo' servisini kullanarak 50 adet veri ekleyelim.**"
   ]
  },
  {
   "cell_type": "markdown",
   "id": "a666376b-2134-4534-811a-a1d76bc0070e",
   "metadata": {},
   "source": [
    "<pre>\n",
    "nsert into employee (id, first_name, birthday, email) values (1, 'Trumann', '1997-03-12', 'tviste0@imdb.com');\n",
    "insert into employee (id, first_name, birthday, email) values (2, 'Dory', '1994-07-01', 'dvickarman1@narod.ru');\n",
    "insert into employee (id, first_name, birthday, email) values (3, 'Sky', '1996-12-20', 'salten2@bravesites.com');\n",
    "insert into employee (id, first_name, birthday, email) values (4, 'Harmon', '1995-09-23', 'helam3@naver.com');\n",
    "insert into employee (id, first_name, birthday, email) values (5, 'Pepi', '1991-04-27', 'pkaas4@ameblo.jp');\n",
    "insert into employee (id, first_name, birthday, email) values (6, 'Hamnet', '2000-04-29', 'hdelcastello5@nasa.gov');\n",
    "insert into employee (id, first_name, birthday, email) values (7, 'Mandi', '1994-05-02', 'mfazakerley6@usnews.com');\n",
    "insert into employee (id, first_name, birthday, email) values (8, 'Georgianna', '2000-10-29', 'gerbe7@quantcast.com');\n",
    "insert into employee (id, first_name, birthday, email) values (9, 'Shermie', '1992-05-01', 'sballam8@wunderground.com');\n",
    "insert into employee (id, first_name, birthday, email) values (10, 'Gardie', '1995-07-24', 'gcleeton9@mashable.com');\n",
    "insert into employee (id, first_name, birthday, email) values (11, 'Chere', '1992-01-05', 'cstickelsa@weebly.com');\n",
    "insert into employee (id, first_name, birthday, email) values (12, 'Tonya', '1993-10-30', 'toverstreetb@trellian.com');\n",
    "insert into employee (id, first_name, birthday, email) values (13, 'Mahmud', '1998-07-05', 'mchristaeasc@wsj.com');\n",
    "insert into employee (id, first_name, birthday, email) values (14, 'Krystal', '1997-06-12', 'kpaced@cbc.ca');\n",
    "insert into employee (id, first_name, birthday, email) values (15, 'Lonnie', '1998-10-25', 'lcampbelle@pen.io');\n",
    "insert into employee (id, first_name, birthday, email) values (16, 'Roma', '1994-11-15', 'rdormerf@go.com');\n",
    "insert into employee (id, first_name, birthday, email) values (17, 'Olwen', '1993-11-28', 'odunkersleyg@scientificamerican.com');\n",
    "insert into employee (id, first_name, birthday, email) values (18, 'Eba', '1995-12-13', 'eocorrenh@wordpress.org');\n",
    "insert into employee (id, first_name, birthday, email) values (19, 'Karia', '1998-06-05', 'kdowdlei@smh.com.au');\n",
    "insert into employee (id, first_name, birthday, email) values (20, 'Winifred', '2000-05-28', 'wgargettj@eventbrite.com');\n",
    "insert into employee (id, first_name, birthday, email) values (21, 'Ev', '1999-07-07', 'ekemmeyk@seesaa.net');\n",
    "insert into employee (id, first_name, birthday, email) values (22, 'Phillie', '1999-08-25', 'pseakinl@mac.com');\n",
    "insert into employee (id, first_name, birthday, email) values (23, 'Gardner', '1999-10-24', 'gpurdonm@guardian.co.uk');\n",
    "insert into employee (id, first_name, birthday, email) values (24, 'Robers', '2001-01-03', 'rsimonellin@webeden.co.uk');\n",
    "insert into employee (id, first_name, birthday, email) values (25, 'Ansley', '1997-04-20', 'ahickfordo@amazon.com');\n",
    "insert into employee (id, first_name, birthday, email) values (26, 'Henryetta', '1992-10-29', 'hburgwynp@infoseek.co.jp');\n",
    "insert into employee (id, first_name, birthday, email) values (27, 'Tristam', '1992-12-28', 'tgleadleq@mapy.cz');\n",
    "insert into employee (id, first_name, birthday, email) values (28, 'Everard', '2000-03-29', 'edarrigrandr@naver.com');\n",
    "insert into employee (id, first_name, birthday, email) values (29, 'Isidor', '1992-08-17', 'ieykelboschs@constantcontact.com');\n",
    "insert into employee (id, first_name, birthday, email) values (30, 'Kelila', '1992-05-13', 'kbiddlestonet@engadget.com');\n",
    "insert into employee (id, first_name, birthday, email) values (31, 'Boycie', '1993-05-04', 'bcantosu@apache.org');\n",
    "insert into employee (id, first_name, birthday, email) values (32, 'Ardeen', '1994-03-15', 'ajedrzaszkiewiczv@booking.com');\n",
    "insert into employee (id, first_name, birthday, email) values (33, 'Vladamir', '1994-03-13', 'vballisterw@earthlink.net');\n",
    "insert into employee (id, first_name, birthday, email) values (34, 'Ester', '1993-07-25', 'edonneelyx@vistaprint.com');\n",
    "insert into employee (id, first_name, birthday, email) values (35, 'Jojo', '1997-10-13', 'jdugally@taobao.com');\n",
    "insert into employee (id, first_name, birthday, email) values (36, 'Archer', '1991-10-08', 'agrassiz@columbia.edu');\n",
    "insert into employee (id, first_name, birthday, email) values (37, 'Jennine', '1998-11-09', 'jsewall10@godaddy.com');\n",
    "insert into employee (id, first_name, birthday, email) values (38, 'Thomasin', '1992-03-21', 'tdaftor11@pen.io');\n",
    "insert into employee (id, first_name, birthday, email) values (39, 'Franky', '1999-08-22', 'ffarans12@latimes.com');\n",
    "insert into employee (id, first_name, birthday, email) values (40, 'Kimmie', '1991-02-25', 'kmacaloren13@163.com');\n",
    "insert into employee (id, first_name, birthday, email) values (41, 'Eduardo', '1991-04-26', 'echishull14@engadget.com');\n",
    "insert into employee (id, first_name, birthday, email) values (42, 'Ardeen', '1999-01-28', 'ablacklawe15@theguardian.com');\n",
    "insert into employee (id, first_name, birthday, email) values (43, 'Davey', '1992-07-14', 'dwinsiowiecki16@tripadvisor.com');\n",
    "insert into employee (id, first_name, birthday, email) values (44, 'Ame', '1995-03-02', 'amcphail17@walmart.com');\n",
    "insert into employee (id, first_name, birthday, email) values (45, 'Ardene', '1996-09-17', 'abebbington18@ifeng.com');\n",
    "insert into employee (id, first_name, birthday, email) values (46, 'Caesar', '1999-06-27', 'csoutham19@toplist.cz');\n",
    "insert into employee (id, first_name, birthday, email) values (47, 'Hardy', '1998-02-13', 'hskpsey1a@wsj.com');\n",
    "insert into employee (id, first_name, birthday, email) values (48, 'Joel', '1991-11-29', 'jworswick1b@xrea.com');\n",
    "insert into employee (id, first_name, birthday, email) values (49, 'Tamar', '1998-02-26', 'tlegging1c@wordpress.com');\n",
    "insert into employee (id, first_name, birthday, email) values (50, 'Teressa', '1994-11-06', 'tgoly1d@nbcnews.com');\n",
    "<pre>"
   ]
  },
  {
   "cell_type": "markdown",
   "id": "5715f1ce-47ef-4900-9d2c-9dbdf97ab5eb",
   "metadata": {
    "tags": []
   },
   "source": [
    "**3-Sütunların her birine göre diğer sütunları güncelleyecek 5 adet UPDATE işlemi yapalım.**"
   ]
  },
  {
   "cell_type": "markdown",
   "id": "19b3bc5c-3a47-4328-87e5-d872fd7ea93e",
   "metadata": {},
   "source": [
    "<pre>\n",
    "UPDATE employee\n",
    "SET first_name = 'Ali Ulvi',\n",
    "\tbirthday = '1997-03-27',\n",
    "\temail = 'kasapoglu.aliulvi@gmail.com'\n",
    "WHERE id=1\n",
    "RETURNING * ;\n",
    "<pre>\n",
    "\n",
    "---------------------------------------------------------------------------------\n",
    "\n",
    "<PRE>\n",
    "UPDATE employee\n",
    "SET id = 127,\n",
    "\tbirthday = '1881-12-22',\n",
    "\temail = 'asdasdada@gmail.com'\n",
    "WHERE first_name='Joel'\n",
    "RETURNING * ;\n",
    "<PRE>\n",
    "\n",
    "---------------------------------------------------------------------------------\n",
    "\n",
    "<PRE>\n",
    "UPDATE employee\n",
    "SET id = 61,\n",
    "\tfirst_name = 'Ali',\n",
    "\temail = 'aukas.co@gmail.com'\n",
    "WHERE birthday='1997-03-27'\n",
    "RETURNING * ;\n",
    "<PRE>\n",
    "\n",
    "---------------------------------------------------------------------------------\n",
    "\n",
    "<PRE>\n",
    "UPDATE employee\n",
    "SET id = 2317,\n",
    "\tfirst_name = 'Ali Kasap',\n",
    "\tbirthday='1010-10-10'\n",
    "WHERE email='aukas.co@gmail.com'\n",
    "RETURNING * ;\n",
    "<PRE>"
   ]
  },
  {
   "cell_type": "markdown",
   "id": "0171ae83-b92b-4785-815b-e89d6a420d2c",
   "metadata": {
    "tags": []
   },
   "source": [
    "**4-Sütunların her birine göre ilgili satırı silecek 5 adet DELETE işlemi yapalım.**"
   ]
  },
  {
   "cell_type": "markdown",
   "id": "5f5da077-cc71-440d-b517-b61de3384bdf",
   "metadata": {},
   "source": [
    "<pre>\n",
    "DELETE FROM employee\n",
    "WHERE id=7\n",
    "RETURNING *;\n",
    "<pre>\n",
    "\n",
    "------------------------------------------------------------------------------------------\n",
    "\n",
    "<pre>\n",
    "DELETE FROM employee\n",
    "WHERE first_name='Franky'\n",
    "RETURNING *;\n",
    "<pre>\n",
    "\n",
    "------------------------------------------------------------------------------------------\n",
    "\n",
    "<pre>\n",
    "DELETE FROM employee\n",
    "WHERE birthday='1010-10-10'\n",
    "RETURNING *;\n",
    "<pre>\n",
    "\n",
    "------------------------------------------------------------------------------------------\n",
    "\n",
    "<pre>\n",
    "DELETE FROM employee\n",
    "WHERE email='ablacklawe15@theguardian.com'\n",
    "RETURNING *;\n",
    "<pre>\n"
   ]
  }
 ],
 "metadata": {
  "kernelspec": {
   "display_name": "Python 3 (ipykernel)",
   "language": "python",
   "name": "python3"
  },
  "language_info": {
   "codemirror_mode": {
    "name": "ipython",
    "version": 3
   },
   "file_extension": ".py",
   "mimetype": "text/x-python",
   "name": "python",
   "nbconvert_exporter": "python",
   "pygments_lexer": "ipython3",
   "version": "3.9.13"
  }
 },
 "nbformat": 4,
 "nbformat_minor": 5
}
