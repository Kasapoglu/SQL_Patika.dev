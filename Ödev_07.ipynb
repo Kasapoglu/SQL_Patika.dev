{
 "cells": [
  {
   "cell_type": "markdown",
   "id": "4b648872-dc16-4fe3-9576-a8a3e6cac2c0",
   "metadata": {},
   "source": [
    "## ÖDEV 7"
   ]
  },
  {
   "cell_type": "markdown",
   "id": "2e856c6a-9e5f-4422-afe4-d72e4b22d7dd",
   "metadata": {},
   "source": [
    "**1-Film tablosunda bulunan filmleri rating değerlerine göre gruplayınız.**"
   ]
  },
  {
   "cell_type": "markdown",
   "id": "03957f43-3db0-4642-8393-191da7f46c55",
   "metadata": {},
   "source": [
    "<pre>\n",
    "SELECT rating,COUNT(rating) FROM film\n",
    "GROUP BY rating;\n",
    "<pre>"
   ]
  },
  {
   "cell_type": "markdown",
   "id": "9ab3bc5e-3df6-405d-a4de-810819db2f58",
   "metadata": {},
   "source": [
    "**2-Film tablosunda bulunan filmleri replacement_cost sütununa göre grupladığımızda film sayısı 50 den fazla olan replacement_cost değerini ve karşılık gelen film sayısını sıralayınız.**"
   ]
  },
  {
   "cell_type": "markdown",
   "id": "a666376b-2134-4534-811a-a1d76bc0070e",
   "metadata": {},
   "source": [
    "<pre>\n",
    "SELECT replacement_cost,COUNT(*) FROM film\n",
    "GROUP BY replacement_cost\n",
    "HAVING COUNT(*)>50;\n",
    "<pre>"
   ]
  },
  {
   "cell_type": "markdown",
   "id": "5715f1ce-47ef-4900-9d2c-9dbdf97ab5eb",
   "metadata": {
    "tags": []
   },
   "source": [
    "**3-Customer tablosunda bulunan store_id değerlerine karşılık gelen müşteri sayıları nelerdir ?**"
   ]
  },
  {
   "cell_type": "markdown",
   "id": "19b3bc5c-3a47-4328-87e5-d872fd7ea93e",
   "metadata": {},
   "source": [
    "<pre>\n",
    "SELECT store_id,COUNT(*) FROM customer\n",
    "GROUP BY store_id;\n",
    "<pre>"
   ]
  },
  {
   "cell_type": "markdown",
   "id": "0171ae83-b92b-4785-815b-e89d6a420d2c",
   "metadata": {
    "tags": []
   },
   "source": [
    "**4-City tablosunda bulunan şehir verilerini country_id sütununa göre gruplandırdıktan sonra en fazla şehir sayısı barındıran country_id bilgisini ve şehir sayısını paylaşınız.**"
   ]
  },
  {
   "cell_type": "markdown",
   "id": "5f5da077-cc71-440d-b517-b61de3384bdf",
   "metadata": {},
   "source": [
    "<pre>\n",
    "SELECT country_id,COUNT(*) FROM city\n",
    "GROUP BY country_id\n",
    "ORDER BY COUNT(*) DESC\n",
    "LIMIT 1;\n",
    "<pre>"
   ]
  }
 ],
 "metadata": {
  "kernelspec": {
   "display_name": "Python 3 (ipykernel)",
   "language": "python",
   "name": "python3"
  },
  "language_info": {
   "codemirror_mode": {
    "name": "ipython",
    "version": 3
   },
   "file_extension": ".py",
   "mimetype": "text/x-python",
   "name": "python",
   "nbconvert_exporter": "python",
   "pygments_lexer": "ipython3",
   "version": "3.9.13"
  }
 },
 "nbformat": 4,
 "nbformat_minor": 5
}
