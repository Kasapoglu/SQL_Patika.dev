{
 "cells": [
  {
   "cell_type": "markdown",
   "id": "4b648872-dc16-4fe3-9576-a8a3e6cac2c0",
   "metadata": {},
   "source": [
    "## ÖDEV 5"
   ]
  },
  {
   "cell_type": "markdown",
   "id": "2e856c6a-9e5f-4422-afe4-d72e4b22d7dd",
   "metadata": {},
   "source": [
    "**1-Film tablosunda bulunan ve film ismi (title) 'n' karakteri ile biten en uzun (length) 5 filmi sıralayınız.**"
   ]
  },
  {
   "cell_type": "markdown",
   "id": "03957f43-3db0-4642-8393-191da7f46c55",
   "metadata": {},
   "source": [
    "<pre>\n",
    "SELECT  * FROM film\n",
    "WHERE title LIKE ('%n')\n",
    "ORDER BY length DESC\n",
    "LIMIT 5;\n",
    "<pre>"
   ]
  },
  {
   "cell_type": "markdown",
   "id": "9ab3bc5e-3df6-405d-a4de-810819db2f58",
   "metadata": {},
   "source": [
    "**2-Film tablosunda bulunan ve film ismi (title) 'n' karakteri ile biten en kısa (length) ikinci(6,7,8,9,10) 5 filmi(6,7,8,9,10) sıralayınız.**"
   ]
  },
  {
   "cell_type": "markdown",
   "id": "a666376b-2134-4534-811a-a1d76bc0070e",
   "metadata": {},
   "source": [
    "<pre>\n",
    "SELECT  * FROM film\n",
    "WHERE title LIKE ('%n')\n",
    "ORDER BY length ASC\n",
    "OFFSET 5\n",
    "LIMIT 5;\n",
    "<pre>"
   ]
  },
  {
   "cell_type": "markdown",
   "id": "5715f1ce-47ef-4900-9d2c-9dbdf97ab5eb",
   "metadata": {
    "tags": []
   },
   "source": [
    "**3-Customer tablosunda bulunan last_name sütununa göre azalan yapılan sıralamada store_id 1 olmak koşuluyla ilk 4 veriyi sıralayınız.**"
   ]
  },
  {
   "cell_type": "markdown",
   "id": "19b3bc5c-3a47-4328-87e5-d872fd7ea93e",
   "metadata": {},
   "source": [
    "<pre>\n",
    "SELECT  * FROM customer\n",
    "WHERE store_id=1\n",
    "ORDER BY last_name DESC\n",
    "LIMIT 4;\n",
    "<pre>"
   ]
  }
 ],
 "metadata": {
  "kernelspec": {
   "display_name": "Python 3 (ipykernel)",
   "language": "python",
   "name": "python3"
  },
  "language_info": {
   "codemirror_mode": {
    "name": "ipython",
    "version": 3
   },
   "file_extension": ".py",
   "mimetype": "text/x-python",
   "name": "python",
   "nbconvert_exporter": "python",
   "pygments_lexer": "ipython3",
   "version": "3.9.13"
  }
 },
 "nbformat": 4,
 "nbformat_minor": 5
}
