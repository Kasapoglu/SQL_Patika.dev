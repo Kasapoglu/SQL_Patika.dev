{
 "cells": [
  {
   "cell_type": "markdown",
   "id": "4b648872-dc16-4fe3-9576-a8a3e6cac2c0",
   "metadata": {},
   "source": [
    "## ÖDEV 9"
   ]
  },
  {
   "cell_type": "markdown",
   "id": "2e856c6a-9e5f-4422-afe4-d72e4b22d7dd",
   "metadata": {},
   "source": [
    "**1-City tablosu ile country tablosunda bulunan şehir (city) ve ülke (country) isimlerini birlikte görebileceğimiz INNER JOIN sorgusunu yazınız.**"
   ]
  },
  {
   "cell_type": "markdown",
   "id": "03957f43-3db0-4642-8393-191da7f46c55",
   "metadata": {},
   "source": [
    "<pre>\n",
    "SELECT city.city , country.country FROM city\n",
    "INNER JOIN country ON city.city_id = country.country_id;\n",
    "<pre>"
   ]
  },
  {
   "cell_type": "markdown",
   "id": "9ab3bc5e-3df6-405d-a4de-810819db2f58",
   "metadata": {},
   "source": [
    "**2-Customer tablosu ile payment tablosunda bulunan payment_id ile customer tablosundaki first_name ve last_name isimlerini birlikte görebileceğimiz INNER JOIN sorgusunu yazınız.**"
   ]
  },
  {
   "cell_type": "markdown",
   "id": "a666376b-2134-4534-811a-a1d76bc0070e",
   "metadata": {},
   "source": [
    "<pre>\n",
    "SELECT payment.payment_id,customer.first_name,customer.last_name FROM customer\n",
    "INNER JOIN payment ON customer.customer_id = payment.customer_id;\n",
    "<pre>"
   ]
  },
  {
   "cell_type": "markdown",
   "id": "5715f1ce-47ef-4900-9d2c-9dbdf97ab5eb",
   "metadata": {
    "tags": []
   },
   "source": [
    "**3-Customer tablosu ile rental tablosunda bulunan rental_id ile customer tablosundaki first_name ve last_name isimlerini birlikte görebileceğimiz INNER JOIN sorgusunu yazınız.**"
   ]
  },
  {
   "cell_type": "markdown",
   "id": "19b3bc5c-3a47-4328-87e5-d872fd7ea93e",
   "metadata": {},
   "source": [
    "<pre>\n",
    "SELECT rental.rental_id,customer.first_name,customer.last_name FROM rental\n",
    "INNER JOIN customer ON rental.customer_id = customer.customer_id;\n",
    "<pre>"
   ]
  }
 ],
 "metadata": {
  "kernelspec": {
   "display_name": "Python 3 (ipykernel)",
   "language": "python",
   "name": "python3"
  },
  "language_info": {
   "codemirror_mode": {
    "name": "ipython",
    "version": 3
   },
   "file_extension": ".py",
   "mimetype": "text/x-python",
   "name": "python",
   "nbconvert_exporter": "python",
   "pygments_lexer": "ipython3",
   "version": "3.9.13"
  }
 },
 "nbformat": 4,
 "nbformat_minor": 5
}
